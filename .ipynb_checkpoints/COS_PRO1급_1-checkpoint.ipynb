{
 "cells": [
  {
   "cell_type": "markdown",
   "id": "0aa49e6b",
   "metadata": {},
   "source": [
    "### 문제1\n",
    "https://edu.goorm.io/learn/lecture/17299/cos-pro-1%EA%B8%89-%EA%B8%B0%EC%B6%9C%EB%AC%B8%EC%A0%9C-python/lesson/839011/1%EC%B0%A8-%EB%AC%B8%EC%A0%9C1-%EC%9D%8C%EC%8B%9D%EC%A0%84%EB%AC%B8%EC%A0%90-%EC%9A%B4%EC%98%81-python"
   ]
  },
  {
   "cell_type": "markdown",
   "id": "90db5a45",
   "metadata": {},
   "source": [
    "파이썬 객체지향 프로그래밍 할 때, self를 쓰는이유\\\n",
    "클래스에 의해 만들어진 객체가 메서드 호출 시 자기 자신이 인자로 들어가기 때문에\\\n",
    "이러한 부분을 이어주는 코드로서 self를 작성한다.\n",
    "\n",
    "self 안쓰면 자칫 인자 갯수가 더 많다는 오류 메시지 나옴"
   ]
  }
 ],
 "metadata": {
  "kernelspec": {
   "display_name": "Python 3",
   "language": "python",
   "name": "python3"
  },
  "language_info": {
   "codemirror_mode": {
    "name": "ipython",
    "version": 3
   },
   "file_extension": ".py",
   "mimetype": "text/x-python",
   "name": "python",
   "nbconvert_exporter": "python",
   "pygments_lexer": "ipython3",
   "version": "3.8.10"
  }
 },
 "nbformat": 4,
 "nbformat_minor": 5
}
