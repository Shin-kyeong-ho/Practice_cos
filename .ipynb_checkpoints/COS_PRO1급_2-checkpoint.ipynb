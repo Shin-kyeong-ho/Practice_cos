{
 "cells": [
  {
   "cell_type": "markdown",
   "id": "706e42bf",
   "metadata": {},
   "source": [
    "## 문제1\n",
    "https://edu.goorm.io/learn/lecture/17299/cos-pro-1%EA%B8%89-%EA%B8%B0%EC%B6%9C%EB%AC%B8%EC%A0%9C-python/lesson/839021/2%EC%B0%A8-%EB%AC%B8%EC%A0%9C1-%EB%8F%84%EC%84%9C-%EB%8C%80%EC%97%AC%EC%A0%90-%EC%9A%B4%EC%98%81-python"
   ]
  },
  {
   "cell_type": "markdown",
   "id": "858db9cd",
   "metadata": {},
   "source": [
    "# 상속(inheritance)"
   ]
  },
  {
   "cell_type": "markdown",
   "id": "0127a1eb",
   "metadata": {},
   "source": [
    "class 부모클래스:\\\n",
    "    ...내용...\\\n",
    "\\\n",
    "class 자식클래스(부모클래스):\\\n",
    "    ...내용...\n",
    "    \n"
   ]
  },
  {
   "cell_type": "markdown",
   "id": "afcd750e",
   "metadata": {},
   "source": [
    "참고\n",
    "https://wikidocs.net/16073"
   ]
  },
  {
   "cell_type": "markdown",
   "id": "2630fc99",
   "metadata": {},
   "source": [
    "# 추상클래스(abstract class)"
   ]
  },
  {
   "cell_type": "markdown",
   "id": "c5acb6fe",
   "metadata": {},
   "source": [
    "- 추상클래스란 미구현 추상메소드를 한개 이상 가지며, 자식클래스에서 해당 추상 메소드를 반드시 구현하도록 강제합니다.\n",
    "- 상속받은 클래스는 추상메소드를 구현하지 않아도, import할 때까지 에러는 발생하지 않으나 객체를 생성할 시 에러가 발생합니다.\n",
    "- 추상클래스를 만들기 위한 형식은 아래와 같습니다.\n",
    "- 반드시 abc 모듈을 import 해야합니다.\n",
    "- 추상메소드는 생략하면 기본적인 클래스 기능은 동작합니다만, 추상메소드를 추가한 후에는 객체를 생성하면 에러가 발생합니다."
   ]
  },
  {
   "cell_type": "markdown",
   "id": "6f03aec7",
   "metadata": {},
   "source": [
    "참고 https://wikidocs.net/16075"
   ]
  },
  {
   "cell_type": "code",
   "execution_count": null,
   "id": "7dac6e0b",
   "metadata": {},
   "outputs": [],
   "source": [
    "from abc import *\n",
    "class 추상클래스명(metaclass=ABCMeta):\n",
    "\n",
    "     @abstractmethod\n",
    "        def 추상메소드(self):\n",
    "            pass"
   ]
  },
  {
   "cell_type": "code",
   "execution_count": null,
   "id": "384cc5b4",
   "metadata": {},
   "outputs": [],
   "source": [
    "from abc import *\n",
    "class Book(metaclass=ABCMeta): # 추상클래스\n",
    "\t@abstractmethod\n",
    "\tdef get_rental_price(self, day): # 이 메소드는 바로 사용하지 못하고 상속을 통해서만 사용가능\n",
    "\t\tpass #실행할 코드가 없음\n",
    "    \n",
    "# 이 전체를 인터페이스라고 함"
   ]
  },
  {
   "cell_type": "code",
   "execution_count": null,
   "id": "7d117beb",
   "metadata": {},
   "outputs": [],
   "source": [
    "class ComicBook(Book):\n",
    "\tdef get_rental_price(self, day):\n",
    "\t\tcost = 500\n",
    "\t\tday -= 2\n",
    "\t\tif day > 0:\n",
    "\t\t\tcost += 200*day\n",
    "\t\treturn cost\n",
    "\n",
    "class Novel(Book):\n",
    "\tdef get_rental_price(self, day):\n",
    "\t\tcost = 1000\n",
    "\t\tday -= 3\n",
    "\t\tif day > 0:\n",
    "\t\t\tcost += 300*day\n",
    "\t\treturn cost\n",
    "\n",
    "def solution(book_types, day):\n",
    "\tbooks = []\n",
    "\tfor types in book_types:\n",
    "\t\tif types == \"comic\":\n",
    "\t\t\tbooks.append(ComicBook()) # 코믹북 객체 append \n",
    "            # <__main__.ComicBook object at 0x7f4984460a00> 대강 이런식으로 들어감\n",
    "\t\telif types == \"novel\":\n",
    "\t\t\tbooks.append(Novel()) # 소설 객체 append\n",
    "            \n",
    "\ttotal_price = 0\n",
    "\tfor book in books:\n",
    "\t\ttotal_price += book.get_rental_price(day)\n",
    "\treturn total_price"
   ]
  },
  {
   "cell_type": "code",
   "execution_count": null,
   "id": "007447ef",
   "metadata": {},
   "outputs": [],
   "source": [
    "book_types = [\"comic\", \"comic\", \"novel\"]\n",
    "day = 4\n",
    "ret = solution(book_types, day)\n",
    "\n",
    "print(\"solution 함수의 반환 값은\", ret, \"입니다.\")"
   ]
  },
  {
   "cell_type": "markdown",
   "id": "ecf59aee",
   "metadata": {},
   "source": [
    "### 추상 클래스란?\n",
    "- 구현되지 않은 추상메서드를 하나 이상 가지고 있는 클래스\n",
    "\n",
    "### 추상 클래스 쓰는 이유?\n",
    "- 부모 클래스를 만들 때, 자식 클래스에 특정 메서드가 꼭 존재해야 하거나 자식 클래스마다 이름은 같지만 기능은 모두 다른 메서드를 만들고 싶은 경우에 이를 구현하도록 강제하기 위해서 사용한다. \n",
    "\n",
    "\n",
    "### 추상 클래스 쓰는 방법?\n",
    "\n",
    "- 추상 클래스를 생성하기 위해서는 abc 모듈을 import 해주어야 한다. 그리고 추상 클래스는 클래스의 괄호 안에 metaclass=ABCMeta로 지정하고, 추상 메서드는 함수 위에 @abstractmethod라는 키워드를 적어주어 다른 메서드들과 구별한다. \n",
    "\n",
    "\n",
    "출처: https://rebro.kr/134 [Rebro의 코딩 일기장:티스토리]"
   ]
  },
  {
   "cell_type": "code",
   "execution_count": null,
   "id": "daa4afb3",
   "metadata": {},
   "outputs": [],
   "source": []
  }
 ],
 "metadata": {
  "kernelspec": {
   "display_name": "Python 3",
   "language": "python",
   "name": "python3"
  },
  "language_info": {
   "codemirror_mode": {
    "name": "ipython",
    "version": 3
   },
   "file_extension": ".py",
   "mimetype": "text/x-python",
   "name": "python",
   "nbconvert_exporter": "python",
   "pygments_lexer": "ipython3",
   "version": "3.8.10"
  }
 },
 "nbformat": 4,
 "nbformat_minor": 5
}
